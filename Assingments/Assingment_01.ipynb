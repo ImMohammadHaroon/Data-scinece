{
  "cells": [
    {
      "cell_type": "code",
      "source": [
        "# Name: [Mohammad Haroon]\n",
        "# Registration Number: [22-cuvas-0137]"
      ],
      "outputs": [],
      "execution_count": null,
      "metadata": {
        "id": "wooiHVwfv6o7"
      }
    },
    {
      "cell_type": "code",
      "source": [
        "# 2. Basic Python Practice\n",
        "print(\"Hello Data Science!\")\n",
        "\n",
        "import numpy as np\n",
        "import pandas as pd\n",
        "import matplotlib.pyplot as plt\n",
        "\n",
        "print(\"Environment Ready!\")"
      ],
      "metadata": {
        "colab": {
          "base_uri": "https://localhost:8080/"
        },
        "id": "erEOP03J9N1a",
        "outputId": "0a8ff134-83ac-4c1a-aa55-f27c814dbf71"
      },
      "execution_count": 2,
      "outputs": [
        {
          "output_type": "stream",
          "name": "stdout",
          "text": [
            "Hello Data Science!\n",
            "Environment Ready!\n"
          ]
        }
      ]
    },
    {
      "cell_type": "code",
      "source": [
        "# 3. DataFrame Creation and Exploration\n",
        "import pandas as pd\n",
        "\n",
        "data = {\n",
        "    'Name': ['Ali', 'Sara', 'Usman', 'Ayesha'],\n",
        "    'Marks': [85, 90, 78, 92],\n",
        "    'Grade': ['A', 'A+', 'B+', 'A+']\n",
        "}\n",
        "\n",
        "df = pd.DataFrame(data)\n",
        "\n",
        "# Print the entire DataFrame\n",
        "print(\"--- Full DataFrame ---\")\n",
        "print(df)\n",
        "\n",
        "# Print the summary statistics for the numerical columns\n",
        "print(\"\\n--- DataFrame Description ---\")\n",
        "print(df.describe())"
      ],
      "metadata": {
        "colab": {
          "base_uri": "https://localhost:8080/"
        },
        "id": "vsy9PihV9Up5",
        "outputId": "c27fdaa0-1fee-43bc-e25f-c983059dd0e6"
      },
      "execution_count": 3,
      "outputs": [
        {
          "output_type": "stream",
          "name": "stdout",
          "text": [
            "--- Full DataFrame ---\n",
            "     Name  Marks Grade\n",
            "0     Ali     85     A\n",
            "1    Sara     90    A+\n",
            "2   Usman     78    B+\n",
            "3  Ayesha     92    A+\n",
            "\n",
            "--- DataFrame Description ---\n",
            "           Marks\n",
            "count   4.000000\n",
            "mean   86.250000\n",
            "std     6.238322\n",
            "min    78.000000\n",
            "25%    83.250000\n",
            "50%    87.500000\n",
            "75%    90.500000\n",
            "max    92.000000\n"
          ]
        }
      ]
    },
    {
      "cell_type": "code",
      "source": [
        "# 4. Visualization Example\n",
        "import matplotlib.pyplot as plt\n",
        "\n",
        "plt.bar(['A', 'B', 'C'], [10, 20, 15])\n",
        "plt.xlabel('Categories')\n",
        "plt.ylabel('Values')\n",
        "plt.title('Simple Bar Chart Example')\n",
        "plt.show()"
      ],
      "metadata": {
        "colab": {
          "base_uri": "https://localhost:8080/",
          "height": 472
        },
        "id": "Byy7QlpE9ZKK",
        "outputId": "04fb8f7b-1305-441d-fc29-047e1dbda85b"
      },
      "execution_count": 4,
      "outputs": [
        {
          "output_type": "display_data",
          "data": {
            "text/plain": [
              "<Figure size 640x480 with 1 Axes>"
            ],
            "image/png": "[encoded data removed]"
          },
          "metadata": {}
        }
      ]
    },
    {
      "cell_type": "code",
      "source": [
        "# 5. Mini Task\n",
        "# Load the Iris dataset from a URL\n",
        "url = 'https://raw.githubusercontent.com/mwaskom/seaborn-data/master/iris.csv'\n",
        "iris = pd.read_csv(url)\n",
        "\n",
        "# Print the first 5 rows of the dataset\n",
        "print(\"--- Iris Dataset Head ---\")\n",
        "print(iris.head())\n",
        "\n",
        "# Print the summary statistics of the dataset\n",
        "print(\"\\n--- Iris Dataset Description ---\")\n",
        "print(iris.describe())"
      ],
      "metadata": {
        "colab": {
          "base_uri": "https://localhost:8080/"
        },
        "id": "VYRlF6IY9bwo",
        "outputId": "1f1423a1-d5a2-48ca-e40c-1d9e449f3279"
      },
      "execution_count": 5,
      "outputs": [
        {
          "output_type": "stream",
          "name": "stdout",
          "text": [
            "--- Iris Dataset Head ---\n",
            "   sepal_length  sepal_width  petal_length  petal_width species\n",
            "0           5.1          3.5           1.4          0.2  setosa\n",
            "1           4.9          3.0           1.4          0.2  setosa\n",
            "2           4.7          3.2           1.3          0.2  setosa\n",
            "3           4.6          3.1           1.5          0.2  setosa\n",
            "4           5.0          3.6           1.4          0.2  setosa\n",
            "\n",
            "--- Iris Dataset Description ---\n",
            "       sepal_length  sepal_width  petal_length  petal_width\n",
            "count    150.000000   150.000000    150.000000   150.000000\n",
            "mean       5.843333     3.057333      3.758000     1.199333\n",
            "std        0.828066     0.435866      1.765298     0.762238\n",
            "min        4.300000     2.000000      1.000000     0.100000\n",
            "25%        5.100000     2.800000      1.600000     0.300000\n",
            "50%        5.800000     3.000000      4.350000     1.300000\n",
            "75%        6.400000     3.300000      5.100000     1.800000\n",
            "max        7.900000     4.400000      6.900000     2.500000\n"
          ]
        }
      ]
    }
  ],
  "metadata": {
    "colab": {
      "provenance": []
    },
    "kernelspec": {
      "display_name": "Python 3",
      "name": "python3"
    }
  },
  "nbformat": 4,
  "nbformat_minor": 0
}